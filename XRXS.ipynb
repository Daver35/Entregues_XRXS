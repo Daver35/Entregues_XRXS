{
 "cells": [
  {
   "cell_type": "markdown",
   "metadata": {},
   "source": [
    "# Codificació - Modulació"
   ]
  },
  {
   "cell_type": "code",
   "execution_count": 32,
   "metadata": {},
   "outputs": [],
   "source": [
    "import numpy as np\n",
    "import random\n",
    "import binascii"
   ]
  },
  {
   "cell_type": "code",
   "execution_count": 91,
   "metadata": {},
   "outputs": [],
   "source": [
    "llista_a = ['a','b','c','d','e','f','g','h','i','j','k','l','m',\n",
    "            'n','o','p','q','r','s','t','u','v','w','x','y','z']\n",
    "Menc = np.array([[6, 24, 1],\n",
    "                 [13, 16, 10],\n",
    "                 [20, 17, 15]])\n",
    "Mdes = np.array([[8, 5, 10],\n",
    "                 [21, 8, 21],\n",
    "                 [21, 12, 8]])\n",
    "\n",
    "# TODO: Gen random string sequence\n",
    "\n",
    "def transforma_text(string):\n",
    "    text = list(string.lower()) # Transform string into a char list (lowercase)\n",
    "    for c in text:\n",
    "        if c in llista_a: # If the char pertains to the alphabet, swap it for its corresponding index\n",
    "            text[text.index(c)] = llista_a.index(c)\n",
    "    return text\n",
    "\n",
    "def encripta(idx_list):\n",
    "    code_list = []\n",
    "    #counter = 0\n",
    "    #guardar posicio caracters\n",
    "    for i in np.arange(0, len(idx_list), 3):\n",
    "        # Filter NaNs\n",
    "        vector = np.array([idx_list[i], idx_list[i+1], idx_list[i+2]]) # If missing, add zeros!!!\n",
    "        aux = (Menc.dot(vector))%26 #multiply%26\n",
    "        #print(aux)\n",
    "        code_list += aux.tolist()\n",
    "        #add new vector to code\n",
    "    return code_list\n",
    "\n",
    "# This gives us the equivalent of the codification in NRZ\n",
    "def binarize(code_list):\n",
    "    binary_list = []\n",
    "    for i in code_list:\n",
    "        aux = str(i).zfill(2) # If number < 10, we add a 0 to its left\n",
    "        #print(aux)\n",
    "        for j in str(i):\n",
    "            binary_list += bin(ord(j))[2:].zfill(8)\n",
    "    return binary_list"
   ]
  },
  {
   "cell_type": "code",
   "execution_count": 92,
   "metadata": {},
   "outputs": [],
   "source": [
    "### CODIFICATION METHODS ###\n",
    "\n",
    "# NRZ\n",
    "def encode_NRZ(binary_list):\n",
    "    #return map(lambda x: 1 if x else -1, binary_list)\n",
    "    return ['1' if x != '0' else '-1' for x in binary_list]\n",
    "    #return [x for x in binary_list else -1]\n",
    "    \n",
    "# NRZ-L\n",
    "def encode_NRZL():\n",
    "    return ['-1' if x != '0' else '1' for x in binary_list]"
   ]
  },
  {
   "cell_type": "code",
   "execution_count": 93,
   "metadata": {},
   "outputs": [
    {
     "name": "stdout",
     "output_type": "stream",
     "text": [
      "[19, 4, 18, 19, 0, 1, 2, 14, 10]\n",
      "[20, 23, 16, 11, 23, 5, 20, 12, 12]\n",
      "['0', '0', '1', '1', '0', '0', '1', '0', '0', '0', '1', '1', '0', '0', '0', '0', '0', '0', '1', '1', '0', '0', '1', '0', '0', '0', '1', '1', '0', '0', '1', '1', '0', '0', '1', '1', '0', '0', '0', '1', '0', '0', '1', '1', '0', '1', '1', '0', '0', '0', '1', '1', '0', '0', '0', '1', '0', '0', '1', '1', '0', '0', '0', '1', '0', '0', '1', '1', '0', '0', '1', '0', '0', '0', '1', '1', '0', '0', '1', '1', '0', '0', '1', '1', '0', '1', '0', '1', '0', '0', '1', '1', '0', '0', '1', '0', '0', '0', '1', '1', '0', '0', '0', '0', '0', '0', '1', '1', '0', '0', '0', '1', '0', '0', '1', '1', '0', '0', '1', '0', '0', '0', '1', '1', '0', '0', '0', '1', '0', '0', '1', '1', '0', '0', '1', '0']\n",
      "['-1', '-1', '1', '1', '-1', '-1', '1', '-1', '-1', '-1', '1', '1', '-1', '-1', '-1', '-1', '-1', '-1', '1', '1', '-1', '-1', '1', '-1', '-1', '-1', '1', '1', '-1', '-1', '1', '1', '-1', '-1', '1', '1', '-1', '-1', '-1', '1', '-1', '-1', '1', '1', '-1', '1', '1', '-1', '-1', '-1', '1', '1', '-1', '-1', '-1', '1', '-1', '-1', '1', '1', '-1', '-1', '-1', '1', '-1', '-1', '1', '1', '-1', '-1', '1', '-1', '-1', '-1', '1', '1', '-1', '-1', '1', '1', '-1', '-1', '1', '1', '-1', '1', '-1', '1', '-1', '-1', '1', '1', '-1', '-1', '1', '-1', '-1', '-1', '1', '1', '-1', '-1', '-1', '-1', '-1', '-1', '1', '1', '-1', '-1', '-1', '1', '-1', '-1', '1', '1', '-1', '-1', '1', '-1', '-1', '-1', '1', '1', '-1', '-1', '-1', '1', '-1', '-1', '1', '1', '-1', '-1', '1', '-1']\n"
     ]
    }
   ],
   "source": [
    "#test = transforma_text(\"Ola k ase, etc.\")\n",
    "test = transforma_text(\"testabcok\")\n",
    "print(test)\n",
    "result = encripta(test)\n",
    "print(result)\n",
    "binlist = binarize(result)\n",
    "#binlist = string2bits(result)\n",
    "print(binlist)\n",
    "NRZ_list = encode_NRZ(binlist)\n",
    "print(NRZ_list)"
   ]
  },
  {
   "cell_type": "code",
   "execution_count": null,
   "metadata": {},
   "outputs": [],
   "source": []
  },
  {
   "cell_type": "code",
   "execution_count": null,
   "metadata": {},
   "outputs": [],
   "source": []
  }
 ],
 "metadata": {
  "kernelspec": {
   "display_name": "Python 3",
   "language": "python",
   "name": "python3"
  },
  "language_info": {
   "codemirror_mode": {
    "name": "ipython",
    "version": 3
   },
   "file_extension": ".py",
   "mimetype": "text/x-python",
   "name": "python",
   "nbconvert_exporter": "python",
   "pygments_lexer": "ipython3",
   "version": "3.7.3"
  }
 },
 "nbformat": 4,
 "nbformat_minor": 2
}
